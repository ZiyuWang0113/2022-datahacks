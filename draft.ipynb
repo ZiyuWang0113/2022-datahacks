{
 "cells": [
  {
   "cell_type": "markdown",
   "metadata": {},
   "source": [
    "## 2022 Datahacks Project Report - Intermediate"
   ]
  },
  {
   "cell_type": "markdown",
   "metadata": {},
   "source": [
    "Contributors: Ziyu Wang, Zhaoyu Zhang"
   ]
  },
  {
   "cell_type": "markdown",
   "metadata": {},
   "source": [
    "Goal: Predict successful deals for each company on Shark Tank tv show\n",
    "\n",
    "Dataset: Train, Test\n",
    "\n",
    "### =================================================="
   ]
  },
  {
   "cell_type": "markdown",
   "metadata": {},
   "source": [
    "Package Import"
   ]
  },
  {
   "cell_type": "code",
   "execution_count": 30,
   "metadata": {},
   "outputs": [],
   "source": [
    "import re\n",
    "import os\n",
    "import csv\n",
    "import nltk\n",
    "import warnings\n",
    "import tqdm\n",
    "import numpy as np\n",
    "import pandas as pd\n",
    "import seaborn as sns\n",
    "import matplotlib.pyplot as plt\n",
    "import tensorflow as tf\n",
    "from tensorflow.keras.utils import to_categorical\n",
    "from tensorflow import keras\n",
    "from tensorflow.keras import layers, Sequential\n",
    "from keras.layers import Dense, Bidirectional, LSTM, Dropout\n",
    "from keras.models import Model\n",
    "from keras.layers.embeddings import Embedding\n",
    "from tensorflow.keras.metrics import Recall, Precision\n",
    "from tensorflow.keras.preprocessing.text import Tokenizer\n",
    "from tensorflow.keras.preprocessing.sequence import pad_sequences\n",
    "from wordcloud import WordCloud, STOPWORDS, ImageColorGenerator\n",
    "from xgboost import XGBClassifier\n",
    "from nltk.corpus import stopwords\n",
    "from nltk.stem import WordNetLemmatizer\n",
    "from nltk.corpus import stopwords\n",
    "from sklearn.model_selection import train_test_split\n",
    "from sklearn.metrics import accuracy_score\n",
    "from sklearn import tree\n",
    "from sklearn.feature_extraction.text import CountVectorizer\n",
    "from sklearn.feature_extraction.text import TfidfVectorizer\n",
    "from sklearn.neighbors import KNeighborsClassifier\n",
    "from sklearn.metrics import classification_report\n",
    "from sklearn.ensemble import RandomForestClassifier\n",
    "from sklearn.metrics import roc_auc_score\n",
    "warnings.filterwarnings('ignore')"
   ]
  },
  {
   "cell_type": "markdown",
   "metadata": {},
   "source": [
    "### EDA"
   ]
  },
  {
   "cell_type": "markdown",
   "metadata": {},
   "source": [
    "#### Data Process"
   ]
  },
  {
   "cell_type": "code",
   "execution_count": 2,
   "metadata": {},
   "outputs": [
    {
     "data": {
      "text/html": [
       "<div>\n",
       "<style scoped>\n",
       "    .dataframe tbody tr th:only-of-type {\n",
       "        vertical-align: middle;\n",
       "    }\n",
       "\n",
       "    .dataframe tbody tr th {\n",
       "        vertical-align: top;\n",
       "    }\n",
       "\n",
       "    .dataframe thead th {\n",
       "        text-align: right;\n",
       "    }\n",
       "</style>\n",
       "<table border=\"1\" class=\"dataframe\">\n",
       "  <thead>\n",
       "    <tr style=\"text-align: right;\">\n",
       "      <th></th>\n",
       "      <th>Season_Epi_code</th>\n",
       "      <th>Pitched_Business_Identifier</th>\n",
       "      <th>Pitched_Business_Desc</th>\n",
       "      <th>Deal_Status</th>\n",
       "      <th>Deal_Shark</th>\n",
       "    </tr>\n",
       "  </thead>\n",
       "  <tbody>\n",
       "    <tr>\n",
       "      <th>0</th>\n",
       "      <td>826</td>\n",
       "      <td>Laid Brand</td>\n",
       "      <td>hair-care products made with pheromones . Laid...</td>\n",
       "      <td>0</td>\n",
       "      <td>NaN</td>\n",
       "    </tr>\n",
       "    <tr>\n",
       "      <th>1</th>\n",
       "      <td>826</td>\n",
       "      <td>Wine &amp; Design</td>\n",
       "      <td>painting classes with wine served . Wine &amp; Des...</td>\n",
       "      <td>1</td>\n",
       "      <td>KOL</td>\n",
       "    </tr>\n",
       "    <tr>\n",
       "      <th>2</th>\n",
       "      <td>824</td>\n",
       "      <td>Peoples Design</td>\n",
       "      <td>a mixing bowl with a built-in scoop . Peoples ...</td>\n",
       "      <td>1</td>\n",
       "      <td>LG</td>\n",
       "    </tr>\n",
       "    <tr>\n",
       "      <th>3</th>\n",
       "      <td>824</td>\n",
       "      <td>Rumi Spice</td>\n",
       "      <td>saffron imported from Afghanistan . Rumi Spice...</td>\n",
       "      <td>1</td>\n",
       "      <td>MC</td>\n",
       "    </tr>\n",
       "    <tr>\n",
       "      <th>4</th>\n",
       "      <td>824</td>\n",
       "      <td>Wallet Buckle</td>\n",
       "      <td>a belt buckle that holds credit cards . The Wa...</td>\n",
       "      <td>1</td>\n",
       "      <td>RH</td>\n",
       "    </tr>\n",
       "  </tbody>\n",
       "</table>\n",
       "</div>"
      ],
      "text/plain": [
       "   Season_Epi_code Pitched_Business_Identifier  \\\n",
       "0              826                  Laid Brand   \n",
       "1              826               Wine & Design   \n",
       "2              824              Peoples Design   \n",
       "3              824                  Rumi Spice   \n",
       "4              824               Wallet Buckle   \n",
       "\n",
       "                               Pitched_Business_Desc  Deal_Status Deal_Shark  \n",
       "0  hair-care products made with pheromones . Laid...            0        NaN  \n",
       "1  painting classes with wine served . Wine & Des...            1        KOL  \n",
       "2  a mixing bowl with a built-in scoop . Peoples ...            1         LG  \n",
       "3  saffron imported from Afghanistan . Rumi Spice...            1         MC  \n",
       "4  a belt buckle that holds credit cards . The Wa...            1         RH  "
      ]
     },
     "execution_count": 2,
     "metadata": {},
     "output_type": "execute_result"
    }
   ],
   "source": [
    "train = pd.read_csv('./train.csv')\n",
    "train.head()"
   ]
  },
  {
   "cell_type": "markdown",
   "metadata": {},
   "source": [
    "#### Column Rename and Information"
   ]
  },
  {
   "cell_type": "code",
   "execution_count": 3,
   "metadata": {},
   "outputs": [],
   "source": [
    "df = train.copy()\n",
    "df.rename(columns = {'Pitched_Business_Desc':'Des', \\\n",
    "    'Pitched_Business_Identifier':'Brand', \\\n",
    "        'Season_Epi_code':'Episode',\\\n",
    "            'Deal_Status':'Status',\\\n",
    "                'Deal_Shark':'Shark'}, inplace = True)"
   ]
  },
  {
   "cell_type": "code",
   "execution_count": 4,
   "metadata": {},
   "outputs": [
    {
     "name": "stdout",
     "output_type": "stream",
     "text": [
      "<class 'pandas.core.frame.DataFrame'>\n",
      "RangeIndex: 530 entries, 0 to 529\n",
      "Data columns (total 5 columns):\n",
      " #   Column   Non-Null Count  Dtype \n",
      "---  ------   --------------  ----- \n",
      " 0   Episode  530 non-null    int64 \n",
      " 1   Brand    530 non-null    object\n",
      " 2   Des      530 non-null    object\n",
      " 3   Status   530 non-null    int64 \n",
      " 4   Shark    283 non-null    object\n",
      "dtypes: int64(2), object(3)\n",
      "memory usage: 20.8+ KB\n"
     ]
    }
   ],
   "source": [
    "df.info()"
   ]
  },
  {
   "cell_type": "code",
   "execution_count": 5,
   "metadata": {},
   "outputs": [
    {
     "data": {
      "text/html": [
       "<div>\n",
       "<style scoped>\n",
       "    .dataframe tbody tr th:only-of-type {\n",
       "        vertical-align: middle;\n",
       "    }\n",
       "\n",
       "    .dataframe tbody tr th {\n",
       "        vertical-align: top;\n",
       "    }\n",
       "\n",
       "    .dataframe thead th {\n",
       "        text-align: right;\n",
       "    }\n",
       "</style>\n",
       "<table border=\"1\" class=\"dataframe\">\n",
       "  <thead>\n",
       "    <tr style=\"text-align: right;\">\n",
       "      <th></th>\n",
       "      <th>Episode</th>\n",
       "      <th>Brand</th>\n",
       "      <th>Des</th>\n",
       "      <th>Status</th>\n",
       "      <th>Shark</th>\n",
       "    </tr>\n",
       "  </thead>\n",
       "  <tbody>\n",
       "    <tr>\n",
       "      <th>0</th>\n",
       "      <td>826</td>\n",
       "      <td>Laid Brand</td>\n",
       "      <td>hair-care products made with pheromones . Laid...</td>\n",
       "      <td>0</td>\n",
       "      <td>NaN</td>\n",
       "    </tr>\n",
       "    <tr>\n",
       "      <th>1</th>\n",
       "      <td>826</td>\n",
       "      <td>Wine &amp; Design</td>\n",
       "      <td>painting classes with wine served . Wine &amp; Des...</td>\n",
       "      <td>1</td>\n",
       "      <td>KOL</td>\n",
       "    </tr>\n",
       "  </tbody>\n",
       "</table>\n",
       "</div>"
      ],
      "text/plain": [
       "   Episode          Brand                                                Des  \\\n",
       "0      826     Laid Brand  hair-care products made with pheromones . Laid...   \n",
       "1      826  Wine & Design  painting classes with wine served . Wine & Des...   \n",
       "\n",
       "   Status Shark  \n",
       "0       0   NaN  \n",
       "1       1   KOL  "
      ]
     },
     "execution_count": 5,
     "metadata": {},
     "output_type": "execute_result"
    }
   ],
   "source": [
    "df.head(2)"
   ]
  },
  {
   "cell_type": "code",
   "execution_count": 6,
   "metadata": {},
   "outputs": [
    {
     "data": {
      "text/plain": [
       "<AxesSubplot:xlabel='Status', ylabel='count'>"
      ]
     },
     "execution_count": 6,
     "metadata": {},
     "output_type": "execute_result"
    },
    {
     "data": {
      "image/png": "[encoded data removed]",
      "text/plain": [
       "<Figure size 432x288 with 1 Axes>"
      ]
     },
     "metadata": {
      "needs_background": "light"
     },
     "output_type": "display_data"
    }
   ],
   "source": [
    "sns.countplot(x ='Status', data = df)"
   ]
  },
  {
   "cell_type": "markdown",
   "metadata": {},
   "source": [
    "Obviously, the Description column takes most weights to predict the Status."
   ]
  },
  {
   "cell_type": "code",
   "execution_count": 7,
   "metadata": {},
   "outputs": [
    {
     "name": "stdout",
     "output_type": "stream",
     "text": [
      "Null-Value Num for Desciption: 0\n"
     ]
    }
   ],
   "source": [
    "print(\"Null-Value Num for Desciption: \" + str(df.Des.isnull().sum()))"
   ]
  },
  {
   "cell_type": "code",
   "execution_count": 8,
   "metadata": {},
   "outputs": [
    {
     "name": "stdout",
     "output_type": "stream",
     "text": [
      "Null-Value Num For Epi-code: 0\n"
     ]
    }
   ],
   "source": [
    "df[\"Episode\"] = df[\"Episode\"].apply(lambda x: int(x))\n",
    "print(\"Null-Value Num For Epi-code: \" + str(df.Episode.isnull().sum()))"
   ]
  },
  {
   "cell_type": "markdown",
   "metadata": {},
   "source": [
    "#### Collect, Clean, and Standardize"
   ]
  },
  {
   "cell_type": "code",
   "execution_count": 9,
   "metadata": {},
   "outputs": [
    {
     "data": {
      "text/plain": [
       "'Content Demo: color in addition to protecting and hydrating hair  the pheromone help girl  exude confidence wherever she go'"
      ]
     },
     "execution_count": 9,
     "metadata": {},
     "output_type": "execute_result"
    }
   ],
   "source": [
    "def clean(X):\n",
    "    '''Column Clean'''\n",
    "    documents = []\n",
    "    stemmer = WordNetLemmatizer()\n",
    "    for sen in range(0, len(X)):\n",
    "        # Remove special characters\n",
    "        document = re.sub(r'\\W', ' ', str(X[sen]))\n",
    "        # remove single characters\n",
    "        document = re.sub(r'\\s+[a-zA-Z]\\s+', ' ', document)\n",
    "        # Remove single characters from the start\n",
    "        document = re.sub(r'\\^[a-zA-Z]\\s+', ' ', document) \n",
    "        # Substituting multiple spaces with single\n",
    "        document = re.sub(r'\\s+', ' ', document, flags=re.I)\n",
    "        # Removing prefixed 'b'\n",
    "        document = re.sub(r'^b\\s+', '', document)\n",
    "        # Converting to Lowercase\n",
    "        document = document.lower()\n",
    "        # Lemmatization\n",
    "        document = document.split()\n",
    "        # remove single char again of special char\n",
    "        tmp = []\n",
    "        for w in document:\n",
    "            chs = [c for c in w if ord(c) >= 48 and ord(c) <= 122]\n",
    "            w = ''.join(chs)\n",
    "            tmp.append(w)\n",
    "        document = tmp        \n",
    "        document = [stemmer.lemmatize(word) for word in document]\n",
    "        document = ' '.join(document)\n",
    "        documents.append(document)\n",
    "    return documents\n",
    "\n",
    "data_des = df.Des\n",
    "data_des2 = clean(data_des)\n",
    "# Sample \n",
    "\"Content Demo: \" + str(data_des2[0][104:])"
   ]
  },
  {
   "cell_type": "code",
   "execution_count": 10,
   "metadata": {},
   "outputs": [
    {
     "data": {
      "image/png": "[encoded data removed]",
      "text/plain": [
       "<Figure size 432x288 with 1 Axes>"
      ]
     },
     "metadata": {
      "needs_background": "light"
     },
     "output_type": "display_data"
    },
    {
     "data": {
      "text/plain": [
       "<AxesSubplot:xlabel='Samples', ylabel='Counts'>"
      ]
     },
     "execution_count": 10,
     "metadata": {},
     "output_type": "execute_result"
    }
   ],
   "source": [
    "trash = stopwords.words('english')\n",
    "text = \" \".join(data_des2).lower()\n",
    "stemmer = WordNetLemmatizer()\n",
    "tokens = text.split()\n",
    "cleans = []\n",
    "for token in tokens:\n",
    "    if not token in trash:\n",
    "        token = stemmer.lemmatize(token)\n",
    "        cleans.append(token)\n",
    "freq = nltk.FreqDist(cleans)\n",
    "freq.plot(16, cumulative = False, color = '#8B0A40')"
   ]
  },
  {
   "cell_type": "code",
   "execution_count": 11,
   "metadata": {},
   "outputs": [
    {
     "data": {
      "image/png": "[encoded data removed]",
      "text/plain": [
       "<Figure size 432x288 with 1 Axes>"
      ]
     },
     "metadata": {
      "needs_background": "light"
     },
     "output_type": "display_data"
    }
   ],
   "source": [
    "des_len = []\n",
    "for i in data_des2:\n",
    "    des_len.append(len(i.split(\" \")))\n",
    "plt.bar(range(len(des_len)), des_len, fc = '#36648B')\n",
    "plt.show()"
   ]
  },
  {
   "cell_type": "code",
   "execution_count": 12,
   "metadata": {},
   "outputs": [
    {
     "data": {
      "image/png": "[encoded data removed]",
      "text/plain": [
       "<Figure size 432x288 with 1 Axes>"
      ]
     },
     "metadata": {
      "needs_background": "light"
     },
     "output_type": "display_data"
    }
   ],
   "source": [
    "wordcloud = WordCloud(max_font_size = 120, max_words = 30, \\\n",
    "    background_color = \"#EDEDED\").generate(\" \".join(cleans))\n",
    "plt.imshow(wordcloud, interpolation = 'bilinear')\n",
    "plt.axis(\"off\")\n",
    "plt.show()"
   ]
  },
  {
   "cell_type": "markdown",
   "metadata": {},
   "source": [
    "From the above visualizations, the words with high frequency have normal meanings."
   ]
  },
  {
   "cell_type": "markdown",
   "metadata": {},
   "source": [
    "### Feature Enineering"
   ]
  },
  {
   "cell_type": "code",
   "execution_count": null,
   "metadata": {},
   "outputs": [],
   "source": []
  },
  {
   "cell_type": "markdown",
   "metadata": {},
   "source": [
    "### NLP Model"
   ]
  },
  {
   "cell_type": "markdown",
   "metadata": {},
   "source": [
    "CountVector and XGBoost"
   ]
  },
  {
   "cell_type": "code",
   "execution_count": 13,
   "metadata": {},
   "outputs": [
    {
     "data": {
      "text/plain": [
       "530"
      ]
     },
     "execution_count": 13,
     "metadata": {},
     "output_type": "execute_result"
    }
   ],
   "source": [
    "len(data_des)"
   ]
  },
  {
   "cell_type": "code",
   "execution_count": 14,
   "metadata": {},
   "outputs": [],
   "source": [
    "cv = CountVectorizer(max_features = 2000, encoding = \"utf-8\",  \n",
    "      ngram_range = (2, 3), stop_words = 'english')"
   ]
  },
  {
   "cell_type": "code",
   "execution_count": 15,
   "metadata": {},
   "outputs": [],
   "source": [
    "X = cv.fit_transform(data_des).toarray()\n",
    "y = df['Status']\n",
    "X_train, X_test, y_train, y_test = train_test_split(X, y, \\\n",
    "      test_size = 0.20, random_state = 0)\n",
    "count_df = pd.DataFrame(X_train, columns = cv.get_feature_names_out())"
   ]
  },
  {
   "cell_type": "code",
   "execution_count": 16,
   "metadata": {},
   "outputs": [
    {
     "name": "stdout",
     "output_type": "stream",
     "text": [
      "Models with CountVector Feature:\n",
      "\n",
      "XGBoost Classifier Model:\n",
      "\n",
      "Test-set Accuracy: 0.5566037735849056\n"
     ]
    }
   ],
   "source": [
    "count_df['tiket'] = y_train\n",
    "model = XGBClassifier(use_label_encoder = False, eval_metric = 'mlogloss')\n",
    "model.fit(X_train, y_train)\n",
    "\n",
    "# make predictions for test data\n",
    "y_pred = model.predict(X_test)\n",
    "predictions = [round(value) for value in y_pred]\n",
    "# evaluate predictions\n",
    "accuracy = accuracy_score(y_test, predictions)\n",
    "\n",
    "print('Models with CountVector Feature:\\n')\n",
    "print('XGBoost Classifier Model:\\n')\n",
    "print('Test-set Accuracy:', accuracy)"
   ]
  },
  {
   "cell_type": "markdown",
   "metadata": {},
   "source": [
    "We found that in XGBoost Model, it reaches the best accuracy for y_test when we use the 2-gram. Furthermore, about the stopwords in English, we found that XGBoost is poor at classifying words with stop words and may do better if synonyms are processed. We are not sure whether in test data the performance will be better.\n",
    "\n",
    "XGBoost are good at allocating rate for each tree to decrease weight, but the running is slow since it has to presort all features and generate more classifier levels."
   ]
  },
  {
   "cell_type": "markdown",
   "metadata": {},
   "source": [
    "#### TF-IDF and Decision Tree"
   ]
  },
  {
   "cell_type": "code",
   "execution_count": 17,
   "metadata": {},
   "outputs": [],
   "source": [
    "dff = df.copy() # copy to prevent catastrophe"
   ]
  },
  {
   "cell_type": "code",
   "execution_count": 18,
   "metadata": {},
   "outputs": [],
   "source": [
    "def TFIDFModels(Model, text):\n",
    "    \n",
    "    x_train, x_test, y_train, y_test = train_test_split(dff['Des'], dff['Status'],\\\n",
    "         test_size = 0.2, random_state = 50)\n",
    "    \n",
    "    vect      = TfidfVectorizer(min_df = 5, max_df = 0.7, \\\n",
    "        sublinear_tf = True, use_idf = True)\n",
    "    train_vect= vect.fit_transform(x_train)\n",
    "    test_vect = vect.transform(x_test)\n",
    "    \n",
    "    model     = Model\n",
    "    model.fit(train_vect, y_train)\n",
    "    predicted = model.predict(test_vect)\n",
    "    accuracy  = model.score(train_vect, y_train)\n",
    "    report = classification_report(y_test, predicted, output_dict=True)\n",
    "    \n",
    "    print(text)\n",
    "    print('Test-set Accuracy:', accuracy_score(y_test, predicted))\n",
    "    print('\\n')"
   ]
  },
  {
   "cell_type": "code",
   "execution_count": 19,
   "metadata": {},
   "outputs": [],
   "source": [
    "def KNN_TFIDF():\n",
    "    # x, y\n",
    "    x_train, x_test, y_train, y_test = train_test_split(dff['Des'], dff['Status'],\\\n",
    "         test_size = 0.2, random_state = 50)\n",
    "    # TF-IDF\n",
    "    vect      = TfidfVectorizer(min_df = 5, max_df = 0.7, \\\n",
    "        sublinear_tf = True, use_idf = True)\n",
    "    train_vect= vect.fit_transform(x_train)\n",
    "    test_vect = vect.transform(x_test)\n",
    "    \n",
    "    for k in [1,2]: # 1-gram, 2-gram\n",
    "        model = KNeighborsClassifier(n_neighbors = k)\n",
    "        model.fit(train_vect, y_train)\n",
    "\n",
    "        predicted = model.predict(test_vect)\n",
    "        accuracy  = model.score(train_vect, y_train)\n",
    "        report = classification_report(y_test, predicted, output_dict=True)\n",
    "\n",
    "        print(\"Classification for k = {} is:\".format(k))\n",
    "        print('Test-set Accuracy:', accuracy_score(y_test, predicted))\n",
    "        print('\\n')"
   ]
  },
  {
   "cell_type": "code",
   "execution_count": 20,
   "metadata": {},
   "outputs": [
    {
     "name": "stdout",
     "output_type": "stream",
     "text": [
      "Models with TF-IDF Feature:\n",
      "\n",
      "Support Vector Classifier Model:\n",
      "\n",
      "Test-set Accuracy: 0.6415094339622641\n",
      "\n",
      "\n",
      "Decision Tree Classifier Model:\n",
      "\n",
      "Test-set Accuracy: 0.5\n",
      "\n",
      "\n",
      "Classification for k = 1 is:\n",
      "Test-set Accuracy: 0.6509433962264151\n",
      "\n",
      "\n",
      "Classification for k = 2 is:\n",
      "Test-set Accuracy: 0.46226415094339623\n",
      "\n",
      "\n"
     ]
    }
   ],
   "source": [
    "from sklearn import svm\n",
    "SupportVectorClassifier = svm.SVC(C = 2, kernel='poly')\n",
    "\n",
    "print('Models with TF-IDF Feature:\\n')\n",
    "\n",
    "# Support Vector\n",
    "svm = TFIDFModels(Model = SupportVectorClassifier,\\\n",
    "    text = 'Support Vector Classifier Model:\\n')\n",
    "\n",
    "# Decision Tree\n",
    "DecTree = TFIDFModels(Model = tree.DecisionTreeClassifier()\\\n",
    "    ,text = 'Decision Tree Classifier Model:\\n')\n",
    "knn_tfidf = KNN_TFIDF()"
   ]
  },
  {
   "cell_type": "markdown",
   "metadata": {},
   "source": [
    "We can see that Support Vector and 1-gram Decision Tree have similar performance."
   ]
  },
  {
   "cell_type": "markdown",
   "metadata": {},
   "source": [
    "#### Random Forest"
   ]
  },
  {
   "cell_type": "code",
   "execution_count": 21,
   "metadata": {},
   "outputs": [],
   "source": [
    "test = pd.read_csv(\"./test.csv\")"
   ]
  },
  {
   "cell_type": "code",
   "execution_count": 22,
   "metadata": {},
   "outputs": [],
   "source": [
    "x_train, y_train = df['Des'], df['Status']\n",
    "vect = CountVectorizer(max_features=1000 , ngram_range=(2,2))\n",
    "vct  = vect.fit(x_train)\n",
    "train_vect = vct.transform(x_train)\n",
    "test_vect = vct.transform(test.Pitched_Business_Desc)\n",
    "rf = RandomForestClassifier()\n",
    "rf.fit(train_vect,y_train)   \n",
    "y_pred = rf.predict_proba(test_vect)"
   ]
  },
  {
   "cell_type": "code",
   "execution_count": 23,
   "metadata": {},
   "outputs": [
    {
     "name": "stdout",
     "output_type": "stream",
     "text": [
      "Threshold 0.2 -- score 0.76\n",
      "Threshold 0.25 -- score 0.85\n",
      "Threshold 0.3 -- score 0.9\n",
      "Threshold 0.35 -- score 0.93\n",
      "Threshold 0.4 -- score 0.94\n",
      "Threshold 0.45 -- score 0.94\n",
      "Threshold 0.5 -- score 0.95\n",
      "Threshold 0.55 -- score 0.95\n",
      "Threshold 0.6 -- score 0.95\n",
      "Threshold 0.65 -- score 0.95\n",
      "Threshold 0.7 -- score 0.94\n",
      "Threshold 0.75 -- score 0.92\n",
      "---Optimum Threshold --- 0.49999999999999994 --ROC-- 0.95\n"
     ]
    }
   ],
   "source": [
    "step_factor = 0.05 \n",
    "threshold = 0.2 \n",
    "roc_score = 0\n",
    "predicted_proba = rf.predict_proba(train_vect) # probability of prediction\n",
    "while threshold <= 0.8: # check best threshold \n",
    "    temp_thresh = threshold\n",
    "    predicted = (predicted_proba [:,1] >= temp_thresh).astype('int')\n",
    "    print('Threshold', round(temp_thresh, 2), \\\n",
    "    '-- score', round(roc_auc_score(y_train, predicted), 2))\n",
    "    if roc_score < roc_auc_score(y_train, predicted): #store the threshold for best classification\n",
    "        roc_score = roc_auc_score(y_train, predicted)\n",
    "        thrsh_score = threshold\n",
    "    threshold = threshold + step_factor\n",
    "print('---Optimum Threshold ---', thrsh_score, \\\n",
    "    '--ROC--', round(roc_score,2))"
   ]
  },
  {
   "cell_type": "markdown",
   "metadata": {},
   "source": [
    "We pick 0.6 as from 0.55-0.7 performs roughly same."
   ]
  },
  {
   "cell_type": "code",
   "execution_count": 24,
   "metadata": {},
   "outputs": [
    {
     "data": {
      "text/plain": [
       "[0, 0, 0, 0, 0, 0, 1, 0, 0, 0]"
      ]
     },
     "execution_count": 24,
     "metadata": {},
     "output_type": "execute_result"
    }
   ],
   "source": [
    "y_pred = y_pred[:, 1]\n",
    "rf_out = []\n",
    "for i in range(len(y_pred)):\n",
    "  if y_pred[i] >= 0.6:\n",
    "    rf_out.append(1)\n",
    "  else:\n",
    "    rf_out.append(0)\n",
    "rf_output = pd.DataFrame(rf_out)\n",
    "rf_out[:10]"
   ]
  },
  {
   "cell_type": "markdown",
   "metadata": {},
   "source": [
    "#### LSTM\n"
   ]
  },
  {
   "cell_type": "code",
   "execution_count": 25,
   "metadata": {},
   "outputs": [],
   "source": [
    "data2 = pd.read_csv('train.csv')\n",
    "data2.rename(columns = {'Pitched_Business_Desc':'Des', \\\n",
    "    'Pitched_Business_Identifier':'Brand', \\\n",
    "        'Season_Epi_code':'Episode',\\\n",
    "            'Deal_Status':'Status',\\\n",
    "                'Deal_Shark':'Shark'}, inplace = True)\n",
    "data2 = data2[['Des','Status']]\n",
    "data2['Des'] = clean(data2['Des'])"
   ]
  },
  {
   "cell_type": "code",
   "execution_count": 26,
   "metadata": {},
   "outputs": [],
   "source": [
    "X, y = data2['Des'], data2['Status']\n",
    "tokenizer = Tokenizer()\n",
    "tokenizer.fit_on_texts(X)\n",
    "X = tokenizer.texts_to_sequences(X)\n",
    "X = np.array(X)\n",
    "y = np.array(y)\n",
    "# pad sequences at the beginning of each sequence with 0's\n",
    "# for example if SEQUENCE_LENGTH=4:\n",
    "# [[5, 3, 2], [5, 1, 2, 3], [3, 4]]\n",
    "# will be transformed to:\n",
    "# [[0, 5, 3, 2], [5, 1, 2, 3], [0, 0, 3, 4]]\n",
    "X = pad_sequences(X, maxlen = 100)\n",
    "y = to_categorical(y)\n",
    "X_train, X_test, y_train, y_test = train_test_split(X, y, \\\n",
    "    test_size = 0.2, random_state=7)"
   ]
  },
  {
   "cell_type": "code",
   "execution_count": 27,
   "metadata": {},
   "outputs": [],
   "source": [
    "def get_model(tokenizer, lstm_units):\n",
    "    \"\"\"\n",
    "    Constructs the model\n",
    "    \"\"\"\n",
    "    # get the GloVe embedding vectors\n",
    "    model = Sequential()\n",
    "    model.add(Embedding(len(tokenizer.word_index)+1,\n",
    "              100,\n",
    "              trainable=False,\n",
    "              input_length= 100))\n",
    "\n",
    "    model.add(LSTM(lstm_units, recurrent_dropout=0.2))\n",
    "    model.add(Dropout(0.3))\n",
    "    model.add(Dense(2, activation=\"softmax\"))\n",
    "    # compile as rmsprop optimizer\n",
    "    # aswell as with recall metric\n",
    "    model.compile(optimizer=\"rmsprop\", loss=\"categorical_crossentropy\",\n",
    "                  metrics=[\"accuracy\"])\n",
    "    model.summary()\n",
    "    return model"
   ]
  },
  {
   "cell_type": "code",
   "execution_count": 28,
   "metadata": {},
   "outputs": [
    {
     "name": "stdout",
     "output_type": "stream",
     "text": [
      "Model: \"sequential\"\n",
      "_________________________________________________________________\n",
      " Layer (type)                Output Shape              Param #   \n",
      "=================================================================\n",
      " embedding (Embedding)       (None, 100, 100)          340700    \n",
      "                                                                 \n",
      " lstm (LSTM)                 (None, 128)               117248    \n",
      "                                                                 \n",
      " dropout (Dropout)           (None, 128)               0         \n",
      "                                                                 \n",
      " dense (Dense)               (None, 2)                 258       \n",
      "                                                                 \n",
      "=================================================================\n",
      "Total params: 458,206\n",
      "Trainable params: 117,506\n",
      "Non-trainable params: 340,700\n",
      "_________________________________________________________________\n",
      "Epoch 1/12\n",
      "27/27 [==============================] - 5s 84ms/step - loss: 0.6922 - accuracy: 0.5425 - val_loss: 0.6999 - val_accuracy: 0.4340\n",
      "Epoch 2/12\n",
      "27/27 [==============================] - 2s 65ms/step - loss: 0.6849 - accuracy: 0.5825 - val_loss: 0.7096 - val_accuracy: 0.4528\n",
      "Epoch 3/12\n",
      "27/27 [==============================] - 2s 62ms/step - loss: 0.6733 - accuracy: 0.5920 - val_loss: 0.7115 - val_accuracy: 0.4528\n",
      "Epoch 4/12\n",
      "27/27 [==============================] - 2s 62ms/step - loss: 0.6649 - accuracy: 0.6061 - val_loss: 0.7745 - val_accuracy: 0.5000\n",
      "Epoch 5/12\n",
      "27/27 [==============================] - 2s 63ms/step - loss: 0.6600 - accuracy: 0.5825 - val_loss: 0.7074 - val_accuracy: 0.4717\n",
      "Epoch 6/12\n",
      "27/27 [==============================] - 2s 62ms/step - loss: 0.6654 - accuracy: 0.6108 - val_loss: 0.7127 - val_accuracy: 0.5189\n",
      "Epoch 7/12\n",
      "27/27 [==============================] - 2s 61ms/step - loss: 0.6507 - accuracy: 0.6250 - val_loss: 0.8135 - val_accuracy: 0.4811\n",
      "Epoch 8/12\n",
      "27/27 [==============================] - 2s 72ms/step - loss: 0.6658 - accuracy: 0.6156 - val_loss: 0.7374 - val_accuracy: 0.5000\n",
      "Epoch 9/12\n",
      "27/27 [==============================] - 2s 89ms/step - loss: 0.6363 - accuracy: 0.6132 - val_loss: 0.7209 - val_accuracy: 0.5000\n",
      "Epoch 10/12\n",
      "27/27 [==============================] - 2s 87ms/step - loss: 0.6440 - accuracy: 0.6415 - val_loss: 0.7304 - val_accuracy: 0.5000\n",
      "Epoch 11/12\n",
      "27/27 [==============================] - 2s 91ms/step - loss: 0.6184 - accuracy: 0.6792 - val_loss: 0.7390 - val_accuracy: 0.5000\n",
      "Epoch 12/12\n",
      "27/27 [==============================] - 2s 86ms/step - loss: 0.6682 - accuracy: 0.6722 - val_loss: 0.7650 - val_accuracy: 0.5000\n"
     ]
    },
    {
     "data": {
      "text/plain": [
       "<keras.callbacks.History at 0x1c13cb02f80>"
      ]
     },
     "execution_count": 28,
     "metadata": {},
     "output_type": "execute_result"
    }
   ],
   "source": [
    "model = get_model( tokenizer = tokenizer, lstm_units = 128)\n",
    "model.fit(X_train, y_train, validation_data = (X_test, y_test),\n",
    "          batch_size=16, epochs=12, verbose=1)"
   ]
  },
  {
   "cell_type": "code",
   "execution_count": 29,
   "metadata": {},
   "outputs": [
    {
     "name": "stdout",
     "output_type": "stream",
     "text": [
      "4/4 [==============================] - 0s 15ms/step - loss: 0.7650 - accuracy: 0.5000\n"
     ]
    }
   ],
   "source": [
    "result = model.evaluate(X_test, y_test)"
   ]
  },
  {
   "cell_type": "markdown",
   "metadata": {},
   "source": [
    "We found that LSTM does not perform so well in the small dataset. The reason is not clear but we did not have enough time to embed vectors which may affect accuracy."
   ]
  },
  {
   "cell_type": "markdown",
   "metadata": {},
   "source": [
    "From above, we decide to use TF-IDF that perform slightly better in train set."
   ]
  },
  {
   "cell_type": "code",
   "execution_count": 31,
   "metadata": {},
   "outputs": [
    {
     "name": "stdout",
     "output_type": "stream",
     "text": [
      "Prediction saved.\n"
     ]
    }
   ],
   "source": [
    "test = pd.read_csv(\"./test.csv\")\n",
    "vect      = TfidfVectorizer(min_df = 5, max_df = 0.8,\\\n",
    "    sublinear_tf = True, use_idf = True)\n",
    "train_vect= vect.fit_transform(df['Des'])\n",
    "test_vect = vect.transform(test.Pitched_Business_Desc)\n",
    "SupportVectorClassifier.fit(train_vect, df['Status'])\n",
    "predicted = SupportVectorClassifier.predict(test_vect)\n",
    "tf_out = pd.DataFrame(predicted)\n",
    "tf_out.rename(columns = {0:'Pred'}, inplace = True)\n",
    "tf_out.head()\n",
    "file = 'output.csv'\n",
    "if(os.path.exists(file) and os.path.isfile(file)):\n",
    "    os.remove(file)\n",
    "tf_out.to_csv('output.csv', index = False)\n",
    "print(\"Prediction saved.\")\n"
   ]
  }
 ],
 "metadata": {
  "interpreter": {
   "hash": "de442ccc26ab53d17887658d92501bcad650150e3a216caa993caf7ad79db428"
  },
  "kernelspec": {
   "display_name": "Python 3 (ipykernel)",
   "language": "python",
   "name": "python3"
  },
  "language_info": {
   "codemirror_mode": {
    "name": "ipython",
    "version": 3
   },
   "file_extension": ".py",
   "mimetype": "text/x-python",
   "name": "python",
   "nbconvert_exporter": "python",
   "pygments_lexer": "ipython3",
   "version": "3.10.2"
  }
 },
 "nbformat": 4,
 "nbformat_minor": 2
}
